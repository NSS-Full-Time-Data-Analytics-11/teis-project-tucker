{
 "cells": [
  {
   "cell_type": "code",
   "execution_count": null,
   "id": "c12df04d",
   "metadata": {},
   "outputs": [],
   "source": [
    "import pandas as pd"
   ]
  },
  {
   "cell_type": "code",
   "execution_count": null,
   "id": "bdf72302",
   "metadata": {},
   "outputs": [],
   "source": [
    "evals = pd.read_excel(\"data/BDI3 All Evals for NSS 11-2023.xlsx\")"
   ]
  },
  {
   "cell_type": "code",
   "execution_count": null,
   "id": "b784e221",
   "metadata": {},
   "outputs": [],
   "source": [
    "evals"
   ]
  },
  {
   "cell_type": "code",
   "execution_count": null,
   "id": "ffabe796",
   "metadata": {},
   "outputs": [],
   "source": [
    "evals = evals.drop(columns=['Code 1', 'Code 2', 'Code 3', 'Code 4', 'Code 5', 'Code 6', 'Code 7', 'Code 8', 'Code 9', 'Code 10'])"
   ]
  },
  {
   "cell_type": "code",
   "execution_count": null,
   "id": "0f5f59ff",
   "metadata": {
    "scrolled": true
   },
   "outputs": [],
   "source": [
    "evals.head(2)"
   ]
  },
  {
   "cell_type": "code",
   "execution_count": null,
   "id": "c9dc29af",
   "metadata": {},
   "outputs": [],
   "source": [
    "len(evals.loc[evals['Gender'] == 'F'])"
   ]
  },
  {
   "cell_type": "code",
   "execution_count": null,
   "id": "23da01db",
   "metadata": {},
   "outputs": [],
   "source": [
    "len(evals.loc[evals['Gender'] == 'M'])"
   ]
  },
  {
   "cell_type": "code",
   "execution_count": null,
   "id": "9ff59e7a",
   "metadata": {},
   "outputs": [],
   "source": [
    "len(evals)"
   ]
  },
  {
   "cell_type": "markdown",
   "id": "b30deca3",
   "metadata": {},
   "source": [
    "there are 414 missing...whats the other gender"
   ]
  },
  {
   "cell_type": "code",
   "execution_count": null,
   "id": "cf390558",
   "metadata": {},
   "outputs": [],
   "source": [
    "evals.Gender.unique()"
   ]
  },
  {
   "cell_type": "code",
   "execution_count": null,
   "id": "87dee4e1",
   "metadata": {},
   "outputs": [],
   "source": [
    "len(evals.loc[evals['Gender'] == 'U'])"
   ]
  },
  {
   "cell_type": "code",
   "execution_count": null,
   "id": "d787dea7",
   "metadata": {},
   "outputs": [],
   "source": [
    "from datetime import datetime"
   ]
  },
  {
   "cell_type": "code",
   "execution_count": null,
   "id": "e5ce66c1",
   "metadata": {},
   "outputs": [],
   "source": [
    "import numpy as np"
   ]
  },
  {
   "cell_type": "markdown",
   "id": "d2f4b121",
   "metadata": {},
   "source": [
    "make an age column!"
   ]
  },
  {
   "cell_type": "code",
   "execution_count": null,
   "id": "74b5de10",
   "metadata": {},
   "outputs": [],
   "source": [
    "evals['Age'] = np.floor((datetime.now() - evals['Date of Birth']).dt.days / 365.25)"
   ]
  },
  {
   "cell_type": "code",
   "execution_count": null,
   "id": "a5e87983",
   "metadata": {},
   "outputs": [],
   "source": [
    "evals.head(2)"
   ]
  },
  {
   "cell_type": "code",
   "execution_count": null,
   "id": "9812cc79",
   "metadata": {},
   "outputs": [],
   "source": [
    "evals.Age.describe()"
   ]
  },
  {
   "cell_type": "code",
   "execution_count": null,
   "id": "5959fa5d",
   "metadata": {},
   "outputs": [],
   "source": [
    "evals.columns = [c.replace(' ', '_') for c in evals.columns]"
   ]
  },
  {
   "cell_type": "code",
   "execution_count": null,
   "id": "704f528a",
   "metadata": {},
   "outputs": [],
   "source": [
    "evals.Adaptive_Sum_of_Scaled_Scores.describe()"
   ]
  },
  {
   "cell_type": "code",
   "execution_count": null,
   "id": "dd8a7799",
   "metadata": {},
   "outputs": [],
   "source": [
    "evals.Adaptive_Percentile_Rank.describe()"
   ]
  },
  {
   "cell_type": "code",
   "execution_count": null,
   "id": "46116d27",
   "metadata": {},
   "outputs": [],
   "source": [
    "columns = list(evals.columns.values)"
   ]
  },
  {
   "cell_type": "code",
   "execution_count": null,
   "id": "d44ec77a",
   "metadata": {},
   "outputs": [],
   "source": [
    "columns"
   ]
  },
  {
   "cell_type": "code",
   "execution_count": null,
   "id": "d1c09424",
   "metadata": {},
   "outputs": [],
   "source": [
    "len(evals.Child_ID.unique())"
   ]
  },
  {
   "cell_type": "markdown",
   "id": "e5e51409",
   "metadata": {},
   "source": [
    "23947 is the number of rows...vs 19003 unique ids....(4944)"
   ]
  },
  {
   "cell_type": "markdown",
   "id": "132781b0",
   "metadata": {},
   "source": [
    "break the main df into smaller subsets based on each domain for better analysis"
   ]
  },
  {
   "cell_type": "code",
   "execution_count": null,
   "id": "ac1fc85c",
   "metadata": {},
   "outputs": [],
   "source": [
    "adaptive_domain = evals[['Child_ID',\n",
    " 'Gender',\n",
    " 'Date_of_Birth','Age',\n",
    " 'Location_-_Sub_Level_1',\n",
    " 'Program_Label',\n",
    " 'Adaptive_Sum_of_Scaled_Scores',\n",
    " 'Adaptive_Developmental_Quotient',\n",
    " 'Adaptive_Percentile_Rank',\n",
    " 'Adaptive_95%_Confidence_Interval',\n",
    " 'Adaptive_RDI',\n",
    " 'Adaptive_Z-Score',\n",
    " 'Adaptive_T-Score',\n",
    " 'Adaptive_NCE','Adaptive-Self_Care_Examiner',\n",
    " 'Adaptive-Self_Care_Date_of_Testing',\n",
    " 'Adaptive-Self_Care_RS',\n",
    " 'Adaptive-Self_Care_SS',\n",
    " 'Adaptive-Self_Care_PR',\n",
    " 'Adaptive-Self_Care_AE',\n",
    " 'Adaptive-Self_Care_RDI',\n",
    " 'Adaptive-Self_Care_CSS',\n",
    " 'Adaptive-Self_Care_CSS_90%',\n",
    " 'Adaptive-Self_Care_Z-Score',\n",
    " 'Adaptive-Self_Care_T-Score',\n",
    " 'Adaptive-Self_Care_NCE',\n",
    " 'Adaptive-Personal_Responsibility_Examiner',\n",
    " 'Adaptive-Personal_Responsibility_Date_of_Testing',\n",
    " 'Adaptive-Personal_Responsibility_RS',\n",
    " 'Adaptive-Personal_Responsibility_SS',\n",
    " 'Adaptive-Personal_Responsibility_PR',\n",
    " 'Adaptive-Personal_Responsibility_AE',\n",
    " 'Adaptive-Personal_Responsibility_RDI',\n",
    " 'Adaptive-Personal_Responsibility_CSS',\n",
    " 'Adaptive-Personal_Responsibility_CSS_90%',\n",
    " 'Adaptive-Personal_Responsibility_Z-Score',\n",
    " 'Adaptive-Personal_Responsibility_T-Score',\n",
    " 'Adaptive-Personal_Responsibility_NCE']]"
   ]
  },
  {
   "cell_type": "code",
   "execution_count": null,
   "id": "aefe3af2",
   "metadata": {},
   "outputs": [],
   "source": [
    "adaptive_domain.head(2)"
   ]
  },
  {
   "cell_type": "code",
   "execution_count": null,
   "id": "c6bcbfb1",
   "metadata": {},
   "outputs": [],
   "source": [
    "socialemotional_domain = evals[['Child_ID',\n",
    " 'Gender',\n",
    " 'Date_of_Birth', 'Age',\n",
    " 'Location_-_Sub_Level_1',\n",
    " 'Program_Label', 'Social-Emotional_Sum_of_Scaled_Scores',\n",
    " 'Social-Emotional_Developmental_Quotient',\n",
    " 'Social-Emotional_Percentile_Rank',\n",
    " 'Social-Emotional_95%_Confidence_Interval',\n",
    " 'Social-Emotional_RDI',\n",
    " 'Social-Emotional_Z-Score',\n",
    " 'Social-Emotional_T-Score',\n",
    " 'Social-Emotional_NCE', 'Social_Emotional-Adult_Interaction_Examiner',\n",
    " 'Social_Emotional-Adult_Interaction_Date_of_Testing',\n",
    " 'Social_Emotional-Adult_Interaction_RS',\n",
    " 'Social_Emotional-Adult_Interaction_SS',\n",
    " 'Social_Emotional-Adult_Interaction_PR',\n",
    " 'Social_Emotional-Adult_Interaction_AE',\n",
    " 'Social_Emotional-Adult_Interaction_RDI',\n",
    " 'Social_Emotional-Adult_Interaction_CSS',\n",
    " 'Social_Emotional-Adult_Interaction_CSS_90%',\n",
    " 'Social_Emotional-Adult_Interaction_Z-Score',\n",
    " 'Social_Emotional-Adult_Interaction_T-Score',\n",
    " 'Social_Emotional-Adult_Interaction_NCE',\n",
    " 'Social_Emotional-Peer_Interaction_Examiner',\n",
    " 'Social_Emotional-Peer_Interaction_Date_of_Testing',\n",
    " 'Social_Emotional-Peer_Interaction_RS',\n",
    " 'Social_Emotional-Peer_Interaction_SS',\n",
    " 'Social_Emotional-Peer_Interaction_PR',\n",
    " 'Social_Emotional-Peer_Interaction_AE',\n",
    " 'Social_Emotional-Peer_Interaction_RDI',\n",
    " 'Social_Emotional-Peer_Interaction_CSS',\n",
    " 'Social_Emotional-Peer_Interaction_CSS_90%',\n",
    " 'Social_Emotional-Peer_Interaction_Z-Score',\n",
    " 'Social_Emotional-Peer_Interaction_T-Score',\n",
    " 'Social_Emotional-Peer_Interaction_NCE',\n",
    " 'Social_Emotional-Self_Concept_/_Social_Role_Examiner',\n",
    " 'Social_Emotional-Self_Concept_/_Social_Role_Date_of_Testing',\n",
    " 'Social_Emotional-Self_Concept_/_Social_Role_RS',\n",
    " 'Social_Emotional-Self_Concept_/_Social_Role_SS',\n",
    " 'Social_Emotional-Self_Concept_/_Social_Role_PR',\n",
    " 'Social_Emotional-Self_Concept_/_Social_Role_AE',\n",
    " 'Social_Emotional-Self_Concept_/_Social_Role_RDI',\n",
    " 'Social_Emotional-Self_Concept_/_Social_Role_CSS',\n",
    " 'Social_Emotional-Self_Concept_/_Social_Role_CSS_90%',\n",
    " 'Social_Emotional-Self_Concept_/_Social_Role_Z-Score',\n",
    " 'Social_Emotional-Self_Concept_/_Social_Role_T-Score',\n",
    " 'Social_Emotional-Self_Concept_/_Social_Role_NCE']]\n",
    "socialemotional_domain.head(2)"
   ]
  },
  {
   "cell_type": "code",
   "execution_count": null,
   "id": "8296de71",
   "metadata": {},
   "outputs": [],
   "source": [
    "communication_domain = evals[['Child_ID',\n",
    " 'Gender',\n",
    " 'Date_of_Birth','Age',\n",
    " 'Location_-_Sub_Level_1',\n",
    " 'Program_Label','Communication_Sum_of_Scaled_Scores',\n",
    " 'Communication_Developmental_Quotient',\n",
    " 'Communication_Percentile_Rank',\n",
    " 'Communication_95%_Confidence_Interval',\n",
    " 'Communication_RDI',\n",
    " 'Communication_Z-Score',\n",
    " 'Communication_T-Score',\n",
    " 'Communication_NCE','Communication-Receptive_Communication_Examiner',\n",
    " 'Communication-Receptive_Communication_Date_of_Testing',\n",
    " 'Communication-Receptive_Communication_RS',\n",
    " 'Communication-Receptive_Communication_SS',\n",
    " 'Communication-Receptive_Communication_PR',\n",
    " 'Communication-Receptive_Communication_AE',\n",
    " 'Communication-Receptive_Communication_RDI',\n",
    " 'Communication-Receptive_Communication_CSS',\n",
    " 'Communication-Receptive_Communication_CSS_90%_',\n",
    " 'Communication-Receptive_Communication_Z-Score',\n",
    " 'Communication-Receptive_Communication_T-Score',\n",
    " 'Communication-Receptive_Communication_NCE',\n",
    " 'Communication-Expressive_Communication_Examiner',\n",
    " 'Communication-Expressive_Communication_Date_of_Testing',\n",
    " 'Communication-Expressive_Communication_RS',\n",
    " 'Communication-Expressive_Communication_SS',\n",
    " 'Communication-Expressive_Communication_PR',\n",
    " 'Communication-Expressive_Communication_AE',\n",
    " 'Communication-Expressive_Communication_RDI',\n",
    " 'Communication-Expressive_Communication_CSS',\n",
    " 'Communication-Expressive_Communication_CSS_90%_',\n",
    " 'Communication-Expressive_Communication_Z-Score',\n",
    " 'Communication-Expressive_Communication_T-Score',\n",
    " 'Communication-Expressive_Communication_NCE']]\n",
    "communication_domain.head(2)"
   ]
  },
  {
   "cell_type": "code",
   "execution_count": null,
   "id": "9e864413",
   "metadata": {},
   "outputs": [],
   "source": [
    "motor_domain = evals[['Child_ID',\n",
    " 'Gender',\n",
    " 'Date_of_Birth','Age',\n",
    " 'Location_-_Sub_Level_1',\n",
    " 'Program_Label','Motor_Sum_of_Scaled_Scores',\n",
    " 'Motor_Developmental_Quotient',\n",
    " 'Motor_Percentile_Rank',\n",
    " 'Motor_95%_Confidence_Interval',\n",
    " 'Motor_RDI',\n",
    " 'Motor_Z-Score',\n",
    " 'Motor_T-Score',\n",
    " 'Motor_NCE','Motor-Gross_Motor_Examiner',\n",
    " 'Motor-Gross_Motor_Date_of_Testing',\n",
    " 'Motor-Gross_Motor_RS',\n",
    " 'Motor-Gross_Motor_SS',\n",
    " 'Motor-Gross_Motor_PR',\n",
    " 'Motor-Gross_Motor_AE',\n",
    " 'Motor-Gross_Motor_RDI',\n",
    " 'Motor-Gross_Motor_CSS',\n",
    " 'Motor-Gross_Motor_CSS_90%_',\n",
    " 'Motor-Gross_Motor_Z-Score',\n",
    " 'Motor-Gross_Motor_T-Score',\n",
    " 'Motor-Gross_Motor_NCE',\n",
    " 'Motor-Fine_Motor_Examiner',\n",
    " 'Motor-Fine_Motor_Date_of_Testing',\n",
    " 'Motor-Fine_Motor_RS',\n",
    " 'Motor-Fine_Motor_SS',\n",
    " 'Motor-Fine_Motor_PR',\n",
    " 'Motor-Fine_Motor_AE',\n",
    " 'Motor-Fine_Motor_RDI',\n",
    " 'Motor-Fine_Motor_CSS',\n",
    " 'Motor-Fine_Motor_CSS_90%',\n",
    " 'Motor-Fine_Motor_Z-Score',\n",
    " 'Motor-Fine_Motor_T-Score',\n",
    " 'Motor-Fine_Motor_NCE',\n",
    " 'Motor-Perceptual_Motor_Examiner',\n",
    " 'Motor-Perceptual_Motor_Date_of_Testing',\n",
    " 'Motor-Perceptual_Motor_RS',\n",
    " 'Motor-Perceptual_Motor_SS',\n",
    " 'Motor-Perceptual_Motor_PR',\n",
    " 'Motor-Perceptual_Motor_AE',\n",
    " 'Motor-Perceptual_Motor_RDI',\n",
    " 'Motor-Perceptual_Motor_CSS',\n",
    " 'Motor-Perceptual_Motor_CSS_90%_',\n",
    " 'Motor-Perceptual_Motor_Z-Score',\n",
    " 'Motor-Perceptual_Motor_T-Score',\n",
    " 'Motor-Perceptual_Motor_NCE']]\n",
    "motor_domain.head(2)"
   ]
  },
  {
   "cell_type": "code",
   "execution_count": null,
   "id": "481f2ad6",
   "metadata": {},
   "outputs": [],
   "source": [
    "cognitive_domain = evals[['Child_ID',\n",
    " 'Gender',\n",
    " 'Date_of_Birth','Age',\n",
    " 'Location_-_Sub_Level_1',\n",
    " 'Program_Label','Cognitive_Sum_of_Scaled_Scores',\n",
    " 'Cognitive_Developmental_Quotient',\n",
    " 'Cognitive_Percentile_Rank',\n",
    " 'Cognitive_95%_Confidence_Interval',\n",
    " 'Cognitive_RDI',\n",
    " 'Cognitive_Z-Score',\n",
    " 'Cognitive_T-Score',\n",
    " 'Cognitive_NCE','Cognitive-Attention_and_Memory_Examiner',\n",
    " 'Cognitive-Attention_and_Memory_Date_of_Testing',\n",
    " 'Cognitive-Attention_and_Memory_RS',\n",
    " 'Cognitive-Attention_and_Memory_SS',\n",
    " 'Cognitive-Attention_and_Memory_PR',\n",
    " 'Cognitive-Attention_and_Memory_AE',\n",
    " 'Cognitive-Attention_and_Memory_RDI',\n",
    " 'Cognitive-Attention_and_Memory_CSS',\n",
    " 'Cognitive-Attention_and_Memory_CSS_90%',\n",
    " 'Cognitive-Attention_and_Memory_Z-Score',\n",
    " 'Cognitive-Attention_and_Memory_T-Score',\n",
    " 'Cognitive-Attention_and_Memory_NCE',\n",
    " 'Cognitive-Reasoning_/_Academic_Skills_Examiner',\n",
    " 'Cognitive-Reasoning_/_Academic_Skills_Date_of_Testing',\n",
    " 'Cognitive-Reasoning_/_Academic_Skills_RS',\n",
    " 'Cognitive-Reasoning_/_Academic_Skills_SS',\n",
    " 'Cognitive-Reasoning_/_Academic_Skills_PR',\n",
    " 'Cognitive-Reasoning_/_Academic_Skills_AE',\n",
    " 'Cognitive-Reasoning_/_Academic_Skills_RDI',\n",
    " 'Cognitive-Reasoning_/_Academic_Skills_CSS',\n",
    " 'Cognitive-Reasoning_/_Academic_Skills_CSS_90%',\n",
    " 'Cognitive-Reasoning_/_Academic_Skills_Z-Score',\n",
    " 'Cognitive-Reasoning_/_Academic_Skills_T-Score',\n",
    " 'Cognitive-Reasoning_/_Academic_Skills_NCE',\n",
    " 'Cognitive-Perception_and_Concepts_Examiner',\n",
    " 'Cognitive-Perception_and_Concepts_Date_of_Testing',\n",
    " 'Cognitive-Perception_and_Concepts_RS',\n",
    " 'Cognitive-Perception_and_Concepts_SS',\n",
    " 'Cognitive-Perception_and_Concepts_PR',\n",
    " 'Cognitive-Perception_and_Concepts_AE',\n",
    " 'Cognitive-Perception_and_Concepts_RDI',\n",
    " 'Cognitive-Perception_and_Concepts_CSS',\n",
    " 'Cognitive-Perception_and_Concepts_CSS_90%',\n",
    " 'Cognitive-Perception_and_Concepts_Z-Score',\n",
    " 'Cognitive-Perception_and_Concepts_T-Score',\n",
    " 'Cognitive-Perception_and_Concepts_NCE']]\n",
    "cognitive_domain.head(2)"
   ]
  },
  {
   "cell_type": "code",
   "execution_count": null,
   "id": "831a7c87",
   "metadata": {},
   "outputs": [],
   "source": [
    "bdi3_domain = evals[['Child_ID',\n",
    " 'Gender',\n",
    " 'Date_of_Birth', 'Age',\n",
    " 'Location_-_Sub_Level_1',\n",
    " 'Program_Label','BDI-3_Total_Sum_of_Scaled_Scores',\n",
    " 'BDI-3_Total_Developmental_Quotient',\n",
    " 'BDI-3_Total_Percentile_Rank',\n",
    " 'BDI-3_Total_90%_Confidence_Interval',\n",
    " 'BDI-3_Total_95%_Confidence_Interval',\n",
    " 'BDI-3_Total_Z-Score',\n",
    " 'BDI-3_Total_T-Score',\n",
    " 'BDI-3_Total_NCE']]\n",
    "bdi3_domain.head(2)"
   ]
  },
  {
   "cell_type": "markdown",
   "id": "65d5404b",
   "metadata": {},
   "source": [
    "plot/chart each broken down as a total and into subsets to see the curve/outliers"
   ]
  },
  {
   "cell_type": "code",
   "execution_count": null,
   "id": "9ac1afb5",
   "metadata": {},
   "outputs": [],
   "source": [
    "import matplotlib.pyplot as plt\n",
    "import seaborn as sns"
   ]
  },
  {
   "cell_type": "code",
   "execution_count": null,
   "id": "25070869",
   "metadata": {},
   "outputs": [],
   "source": [
    "%who"
   ]
  },
  {
   "cell_type": "code",
   "execution_count": null,
   "id": "6d077bbc",
   "metadata": {},
   "outputs": [],
   "source": [
    "adaptive_domain.head(2)"
   ]
  },
  {
   "cell_type": "code",
   "execution_count": null,
   "id": "78b51aaf",
   "metadata": {},
   "outputs": [],
   "source": [
    "sns.kdeplot(adaptive_domain['Adaptive_Sum_of_Scaled_Scores']);"
   ]
  },
  {
   "cell_type": "code",
   "execution_count": null,
   "id": "4c4f3e94",
   "metadata": {},
   "outputs": [],
   "source": [
    "sns.histplot(data=adaptive_domain, x=\"Adaptive_Sum_of_Scaled_Scores\")\n",
    "plt.show()"
   ]
  },
  {
   "cell_type": "markdown",
   "id": "85668777",
   "metadata": {},
   "source": []
  },
  {
   "cell_type": "markdown",
   "id": "b5e3efa9",
   "metadata": {},
   "source": [
    "1. In which domains (and sub-domains) are children performing highest and lowest?\n",
    "\n",
    "2. What is the pattern of children's scores? Do individual children tend to perform similarly across all domains or are there differences from domain to domain? Are these patterns similar for all children? scatter plots?\n",
    "\n",
    "3. Is there a pattern of significant differences in children's scores in the sub-domains within a domain? For example, a gap between a child's expressive (talking) and receptive (understanding) language scores may indicate that additional evaluation is needed for that child's eligibility. A gap between these sub-domains for all or most children may indicate the BDI-3 tool may lack sensitivity in the language domain.\n",
    "\n",
    "4. Does the child's age seem to impact their scoring?\n"
   ]
  },
  {
   "cell_type": "markdown",
   "id": "5f975416",
   "metadata": {},
   "source": [
    "5. Eligibility is currently based on domains. A child would be considered eligible based on a 40% delay in one area or 25% delay in two areas, as determined by Development Quotient (DQ) scores. A DQ of 70 or less indicates a 40% delay, and a DQ between 71 and 78 indicates a 25% delay. If TEIS added an option for eligibility based on the total score on the BDI-3 total score (DQ score of 70 or less), are there any children who would have qualified that did not qualify based on the current method?\n"
   ]
  },
  {
   "cell_type": "code",
   "execution_count": null,
   "id": "9a565722",
   "metadata": {},
   "outputs": [],
   "source": [
    "evals.head(2)"
   ]
  },
  {
   "cell_type": "markdown",
   "id": "4611488f",
   "metadata": {},
   "source": [
    "6. Is there any difference in scoring noted based on evaluation type?\n",
    "group by child id & look at program lable - case when maybe?\n"
   ]
  },
  {
   "cell_type": "code",
   "execution_count": null,
   "id": "a1265a1d",
   "metadata": {},
   "outputs": [],
   "source": []
  },
  {
   "cell_type": "markdown",
   "id": "bbf6dbde",
   "metadata": {},
   "source": [
    "7. Is there any notable pattern of scoring by region? Note: TEIS contracts with three agencies for evaluations (one per grand region) as follows:  \n",
    "* East TN, First TN and Southeast\n",
    "* Greater Nashville, Upper Cumberland, and South Central\n",
    "* Northwest, Southwest, and Memphis Delta\n",
    "this utilizes the Location_-_Sub_Level_1 column"
   ]
  },
  {
   "cell_type": "code",
   "execution_count": null,
   "id": "15ccff66",
   "metadata": {},
   "outputs": [],
   "source": []
  },
  {
   "cell_type": "markdown",
   "id": "8015094e",
   "metadata": {},
   "source": [
    "8. Is there any notable pattern of scoring by evaluator?"
   ]
  },
  {
   "cell_type": "code",
   "execution_count": null,
   "id": "dead6bed",
   "metadata": {},
   "outputs": [],
   "source": [
    "evals.loc[:, (evals.columns.str.contains('Examiner'))]"
   ]
  },
  {
   "cell_type": "code",
   "execution_count": null,
   "id": "c1371102",
   "metadata": {},
   "outputs": [],
   "source": []
  },
  {
   "cell_type": "code",
   "execution_count": null,
   "id": "a36f4981",
   "metadata": {},
   "outputs": [],
   "source": []
  }
 ],
 "metadata": {
  "kernelspec": {
   "display_name": "Python 3 (ipykernel)",
   "language": "python",
   "name": "python3"
  },
  "language_info": {
   "codemirror_mode": {
    "name": "ipython",
    "version": 3
   },
   "file_extension": ".py",
   "mimetype": "text/x-python",
   "name": "python",
   "nbconvert_exporter": "python",
   "pygments_lexer": "ipython3",
   "version": "3.11.5"
  }
 },
 "nbformat": 4,
 "nbformat_minor": 5
}
